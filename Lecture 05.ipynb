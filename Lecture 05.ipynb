{
 "cells": [
  {
   "cell_type": "code",
   "execution_count": 1,
   "id": "dd8bf748",
   "metadata": {},
   "outputs": [],
   "source": [
    "import numpy as np\n",
    "import seaborn as sns\n",
    "import matplotlib.pyplot as plt\n",
    "import itertools\n",
    "from math import comb\n",
    "\n",
    "plt_style = {\"text.usetex\": True,\n",
    "             \"text.latex.preamble\": r\"\\usepackage{amsfonts}\\usepackage[version=4]{mhchem}\",\n",
    "             \"axes.spines.right\" : False,\n",
    "             \"axes.spines.top\" : False,\n",
    "             \"font.size\": 22,\n",
    "             \"savefig.dpi\": 600,\n",
    "             \"savefig.bbox\": 'tight'\n",
    "            }"
   ]
  },
  {
   "cell_type": "code",
   "execution_count": 2,
   "id": "1ec23629",
   "metadata": {},
   "outputs": [],
   "source": [
    "y = np.asarray([89.7, 81.4, 84.5, 84.8, 87.3, 79.7, 85.1, \n",
    "     91.7, 83.7, 84.5, 84.7, 86.1, 83.2, 91.9, \n",
    "     86.3, 79.3, 82.6, 89.1, 83.7, 88.5\n",
    "    ])\n",
    "labels = np.random.choice(np.hstack((np.zeros(10), np.ones(10))), size=20)"
   ]
  },
  {
   "cell_type": "code",
   "execution_count": 4,
   "id": "1ec89ede",
   "metadata": {},
   "outputs": [
    {
     "name": "stdout",
     "output_type": "stream",
     "text": [
      "[1. 1. 0. 1. 1. 0. 0. 1. 1. 0. 0. 1. 1. 1. 1. 1. 0. 1. 1. 0.]\n"
     ]
    }
   ],
   "source": [
    "print(labels)"
   ]
  },
  {
   "cell_type": "markdown",
   "id": "bd25b8f0",
   "metadata": {},
   "source": [
    "## Random Sample Method"
   ]
  },
  {
   "cell_type": "code",
   "execution_count": 3,
   "id": "8b60ddba",
   "metadata": {},
   "outputs": [
    {
     "name": "stdout",
     "output_type": "stream",
     "text": [
      "Mean value with A :  86.02\n",
      "Mean value with B :  84.23\n",
      "Difference : 1.79\n"
     ]
    }
   ],
   "source": [
    "n_A = sum(labels==1)\n",
    "n_B = sum(labels==0)\n",
    "mean_A = np.mean(y[labels==1])\n",
    "mean_B = np.mean(y[labels==0])\n",
    "print('Mean value with A :  %.2f'%mean_A)\n",
    "print('Mean value with B :  %.2f'%mean_B)\n",
    "print('Difference : %.2f'%(mean_A-mean_B))"
   ]
  },
  {
   "cell_type": "code",
   "execution_count": 5,
   "id": "ef9dce4d",
   "metadata": {},
   "outputs": [
    {
     "name": "stdout",
     "output_type": "stream",
     "text": [
      "Sample variance :  12.268400488400488\n"
     ]
    }
   ],
   "source": [
    "# Compute sample variance\n",
    "y_A = y[labels==1]\n",
    "y_B = y[labels==0]\n",
    "numer = sum((y_A- mean_A)**2) + sum((y_B- mean_B)**2)\n",
    "dof = n_A+n_B-2\n",
    "s2 = numer/dof\n",
    "print('Sample variance : ', s2)"
   ]
  },
  {
   "cell_type": "code",
   "execution_count": 6,
   "id": "30fff22d",
   "metadata": {},
   "outputs": [],
   "source": [
    "# compute t-deviate\n",
    "delta = 0\n",
    "t = (mean_A-mean_B-delta)/np.sqrt(s2*(1/n_A + 1/n_B))"
   ]
  },
  {
   "cell_type": "code",
   "execution_count": 7,
   "id": "630bdd0f",
   "metadata": {},
   "outputs": [
    {
     "name": "stdout",
     "output_type": "stream",
     "text": [
      "t-statistic:  0.14544122904852413\n"
     ]
    }
   ],
   "source": [
    "from scipy.stats import t as tdist\n",
    "print('t-statistic: ', tdist.sf(t, dof))"
   ]
  },
  {
   "cell_type": "markdown",
   "id": "3247320c",
   "metadata": {},
   "source": [
    "## Randomized Design Method"
   ]
  },
  {
   "cell_type": "code",
   "execution_count": 18,
   "id": "bc572704",
   "metadata": {},
   "outputs": [
    {
     "name": "stdout",
     "output_type": "stream",
     "text": [
      "Total assignments possible:  184756\n"
     ]
    }
   ],
   "source": [
    "num_possible = comb(20, 10)\n",
    "print('Total assignments possible: ', num_possible)"
   ]
  },
  {
   "cell_type": "code",
   "execution_count": 13,
   "id": "1c368364",
   "metadata": {},
   "outputs": [
    {
     "name": "stdout",
     "output_type": "stream",
     "text": [
      "Observed difference : -1.83\n",
      "Total assignments possible:  462\n"
     ]
    }
   ],
   "source": [
    "from math import comb\n",
    "\n",
    "pounds = np.array([29.2, 11.4, 26.6, 23.7, 25.3, 28.5, 14.2, 17.9, 16.5, 21.1, 24.3])\n",
    "labels = np.array([1,1,0,0,1,0,0,0,1,1,0])\n",
    "mean_A = np.mean(pounds[labels==1])\n",
    "mean_B = np.mean(pounds[labels==0])\n",
    "print('Observed difference : %.2f'%(mean_A-mean_B))\n",
    "num_possible = comb(len(pounds), 5)\n",
    "print('Total assignments possible: ', num_possible)"
   ]
  },
  {
   "cell_type": "code",
   "execution_count": 14,
   "id": "d77dd595",
   "metadata": {},
   "outputs": [],
   "source": [
    "import itertools\n",
    "\n",
    "all_asgs = list(itertools.combinations(np.arange(len(pounds)), 5))\n",
    "all_diff = []\n",
    "for asg in all_asgs:\n",
    "    A = np.asarray(asg)\n",
    "    B = np.setdiff1d(np.arange(len(pounds)), A)\n",
    "    yA = pounds[A]\n",
    "    yB = pounds[B]\n",
    "    diff = np.mean(yA)-np.mean(yB)\n",
    "    all_diff.append(diff)"
   ]
  },
  {
   "cell_type": "code",
   "execution_count": 19,
   "id": "568e8a9e",
   "metadata": {},
   "outputs": [
    {
     "data": {
      "image/png": "[encoded data removed]",
      "text/plain": [
       "<Figure size 640x480 with 1 Axes>"
      ]
     },
     "metadata": {},
     "output_type": "display_data"
    }
   ],
   "source": [
    "import seaborn as sns\n",
    "import matplotlib.pyplot as plt\n",
    "\n",
    "with plt.style.context(plt_style):\n",
    "    fig, ax = plt.subplots()\n",
    "    sns.histplot(x=all_diff, kde=True)\n",
    "    ax.axvline(mean_A-mean_B, color='tab:red', ls='--')\n",
    "    plt.savefig('./figures/lec05_1.pdf')\n",
    "    plt.show()"
   ]
  },
  {
   "cell_type": "code",
   "execution_count": 17,
   "id": "27f70e65",
   "metadata": {},
   "outputs": [
    {
     "name": "stdout",
     "output_type": "stream",
     "text": [
      "Approximate probability :  0.11904761904761904\n"
     ]
    }
   ],
   "source": [
    "print('Approximate probability : ', 55/462)"
   ]
  },
  {
   "cell_type": "code",
   "execution_count": null,
   "id": "a590548f",
   "metadata": {},
   "outputs": [],
   "source": []
  }
 ],
 "metadata": {
  "kernelspec": {
   "display_name": "DOE",
   "language": "python",
   "name": "doe"
  },
  "language_info": {
   "codemirror_mode": {
    "name": "ipython",
    "version": 3
   },
   "file_extension": ".py",
   "mimetype": "text/x-python",
   "name": "python",
   "nbconvert_exporter": "python",
   "pygments_lexer": "ipython3",
   "version": "3.8.0"
  }
 },
 "nbformat": 4,
 "nbformat_minor": 5
}

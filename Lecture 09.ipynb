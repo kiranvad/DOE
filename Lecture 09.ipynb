{
 "cells": [
  {
   "cell_type": "code",
   "execution_count": 1,
   "id": "dd8bf748",
   "metadata": {},
   "outputs": [],
   "source": [
    "import numpy as np\n",
    "import seaborn as sns\n",
    "import matplotlib.pyplot as plt\n",
    "import itertools\n",
    "from math import comb\n",
    "\n",
    "plt_style = {\"text.usetex\": True,\n",
    "             \"text.latex.preamble\": r\"\\usepackage{amsfonts}\\usepackage[version=4]{mhchem}\",\n",
    "             \"axes.spines.right\" : False,\n",
    "             \"axes.spines.top\" : False,\n",
    "             \"font.size\": 22,\n",
    "             \"savefig.dpi\": 600,\n",
    "             \"savefig.bbox\": 'tight'\n",
    "            }"
   ]
  },
  {
   "cell_type": "markdown",
   "id": "6737ec1e",
   "metadata": {},
   "source": [
    "In this example, we look at a synthetic data that we generate using a normal distribution $\\mathcal{N}(\\mu, \\sigma)$ where we set different mean values to sample data from a ground truth different mean model. Alternatively, we set all the $\\mu$ values to be the same if we want it to be a single mean model."
   ]
  },
  {
   "cell_type": "code",
   "execution_count": 2,
   "id": "748a0994",
   "metadata": {},
   "outputs": [
    {
     "data": {
      "image/png": "[encoded data removed]",
      "text/plain": [
       "<Figure size 1000x200 with 5 Axes>"
      ]
     },
     "metadata": {},
     "output_type": "display_data"
    }
   ],
   "source": [
    "# Create dummy life time data for any battery\n",
    "def sample_battery_lifetime(means, sizes, std=0.3):\n",
    "    samples = []\n",
    "    for mi, ni in zip(means, sizes):\n",
    "        samples.append(np.random.normal(loc=mi, scale=std, size=ni))\n",
    "        \n",
    "    return samples\n",
    "\n",
    "# generate seperate means data\n",
    "yij = sample_battery_lifetime([2.0, 1.6, 1.5, 1.15, 1.0], [100, 100, 100, 100, 100])\n",
    "\n",
    "# generate single mean data\n",
    "# yij = sample_battery_lifetime([2.0, 2.0, 2.0, 2.0, 2.0], [100, 100, 100, 100, 100])\n",
    "\n",
    "\n",
    "fig, axs = plt.subplots(1,5, figsize=(2*5, 2))\n",
    "for i, yi in enumerate(yij):\n",
    "    axs[i].hist(yi, density=True)\n",
    "    axs[i].set_xlim([0.5, 2.5])\n",
    "plt.show()"
   ]
  },
  {
   "cell_type": "markdown",
   "id": "26a17451",
   "metadata": {},
   "source": [
    "This histogram plot should tell us whether each level has a different mean or a the same mean"
   ]
  },
  {
   "cell_type": "code",
   "execution_count": 3,
   "id": "f109979e",
   "metadata": {},
   "outputs": [
    {
     "data": {
      "image/png": "[encoded data removed]",
      "text/plain": [
       "<Figure size 640x480 with 1 Axes>"
      ]
     },
     "metadata": {},
     "output_type": "display_data"
    }
   ],
   "source": [
    "global_mean = np.hstack(yij).mean()\n",
    "\n",
    "global_residuals = [y-global_mean for y in np.hstack(yij)]\n",
    "plt.hist(global_residuals, density=True)\n",
    "plt.show()"
   ]
  },
  {
   "cell_type": "markdown",
   "id": "41848b21",
   "metadata": {},
   "source": [
    "We can also visualize the residuals from the global mean to see that they roughly follow a normal distribution as we increase the number of samples because of central limit theorem"
   ]
  },
  {
   "cell_type": "markdown",
   "id": "429687ec",
   "metadata": {},
   "source": [
    "Next, let us compute the mean value of each level and call it `group_means` ($\\bar{y}_{i,.}$) and the beta variation given by $$\\beta_i = \\bar{y}_{i,.} - \\bar{y}_{., .}$$"
   ]
  },
  {
   "cell_type": "code",
   "execution_count": 4,
   "id": "27fbb0aa",
   "metadata": {},
   "outputs": [
    {
     "name": "stdout",
     "output_type": "stream",
     "text": [
      "Mean of group 0  is 2.0344; Beta residual 0.5627\n",
      "Mean of group 1  is 1.5655; Beta residual 0.0938\n",
      "Mean of group 2  is 1.5558; Beta residual 0.0841\n",
      "Mean of group 3  is 1.1900; Beta residual -0.2817\n",
      "Mean of group 4  is 1.0128; Beta residual -0.4589\n"
     ]
    }
   ],
   "source": [
    "group_means = np.zeros(len(yij))\n",
    "betas = np.zeros(len(yij))\n",
    "for i, yi in enumerate(yij):\n",
    "    group_means[i] = np.mean(yi)\n",
    "    betas[i] = group_means[i] - global_mean\n",
    "    print('Mean of group %d  is %2.4f; Beta residual %2.4f'%(i, group_means[i], betas[i]))"
   ]
  },
  {
   "cell_type": "markdown",
   "id": "f6614e10",
   "metadata": {},
   "source": [
    "We can now compute the required sum of squares :  $$ SS_{\\text{total}} = \\sum_{i}^{g}\\sum_{j}^{n_{i}} y_{ij} - \\bar{y}_{.,.}$$\n",
    "$$ SS_{\\text{level}} = \\sum_{i}^{g}\\sum_{j}^{n_{i}} \\beta^{2}_{i} $$\n",
    "$$ SS_{\\text{error}} = \\sum_{i}^{g}\\sum_{j}^{n_{i}} e^{2}_{ij} $$"
   ]
  },
  {
   "cell_type": "code",
   "execution_count": 5,
   "id": "b775e42b",
   "metadata": {},
   "outputs": [
    {
     "name": "stdout",
     "output_type": "stream",
     "text": [
      "Total SS is 107.2345; \n",
      " Group level SS is 62.2516; \n",
      " Error SS is 44.9828\n"
     ]
    }
   ],
   "source": [
    "SS_total = np.sum([r**2 for r in global_residuals])\n",
    "SS_level = np.sum([len(yi)*b**2 for yi,b in zip(yij,betas)])\n",
    "SS_error = 0\n",
    "for i, yi in enumerate(yij):\n",
    "    for yj in yi:\n",
    "        SS_error += (yj-group_means[i])**2\n",
    "\n",
    "print('Total SS is %2.4f; \\n Group level SS is %2.4f; \\n Error SS is %2.4f'%(SS_total, SS_level, SS_error))"
   ]
  },
  {
   "cell_type": "markdown",
   "id": "ae840367",
   "metadata": {},
   "source": [
    "The f-statistic is given by $$f_{0} = \\frac{SS_{\\text{level}}/(g-1)}{SS_{\\text{error}}/(N-g)}$$"
   ]
  },
  {
   "cell_type": "code",
   "execution_count": 6,
   "id": "bbe62854",
   "metadata": {},
   "outputs": [
    {
     "name": "stdout",
     "output_type": "stream",
     "text": [
      "F-statistic is 171.2574\n"
     ]
    }
   ],
   "source": [
    "g = len(yij)\n",
    "N = sum([len(yi) for yi in yij])\n",
    "\n",
    "f0 = (SS_level/(g-1))/(SS_error/(N-g))\n",
    "print('F-statistic is %2.4f'%f0)"
   ]
  },
  {
   "cell_type": "code",
   "execution_count": 7,
   "id": "6d1f7f91",
   "metadata": {},
   "outputs": [
    {
     "data": {
      "text/plain": [
       "F_onewayResult(statistic=171.25735593517572, pvalue=6.049416922056318e-92)"
      ]
     },
     "execution_count": 7,
     "metadata": {},
     "output_type": "execute_result"
    }
   ],
   "source": [
    "# scipy has this method implemented already\n",
    "# recall that p-value measure the probability of observing the f0 value\n",
    "# as extreme when the null hypothesis is True i.e. a single mean model\n",
    "from scipy.stats import f_oneway\n",
    "f_oneway(*yij)"
   ]
  }
 ],
 "metadata": {
  "kernelspec": {
   "display_name": "DOE",
   "language": "python",
   "name": "doe"
  },
  "language_info": {
   "codemirror_mode": {
    "name": "ipython",
    "version": 3
   },
   "file_extension": ".py",
   "mimetype": "text/x-python",
   "name": "python",
   "nbconvert_exporter": "python",
   "pygments_lexer": "ipython3",
   "version": "3.8.0"
  }
 },
 "nbformat": 4,
 "nbformat_minor": 5
}

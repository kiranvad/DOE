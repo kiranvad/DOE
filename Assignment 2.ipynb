{
 "cells": [
  {
   "cell_type": "markdown",
   "id": "56ba4114",
   "metadata": {},
   "source": [
    "### Assignment release date: 08th February\n",
    "### Assignment due date : 24th February\n",
    "\n",
    "Provide your answers with in the boxes below the question. You can add as many boxes as possible. At the end, download a pdf copy of the notebook and submit it on canvas upload. For each question, add descriptive answers explaining your metholdology and inference usin the markdown feature."
   ]
  },
  {
   "cell_type": "code",
   "execution_count": 1,
   "id": "7803a23f",
   "metadata": {},
   "outputs": [],
   "source": [
    "import numpy as np\n",
    "import matplotlib.pyplot as plt"
   ]
  },
  {
   "cell_type": "markdown",
   "id": "b58855e1",
   "metadata": {},
   "source": [
    "## Question 1 (10 points)\n",
    "\n",
    "In the class we have discussed implementation of space filling designs when the design spaces are two or three dimensional Euclidean spaces. But in the context of materials design, we tend to have few constraints on the design spaces we work with. One such example is a volume fractions of a three component system which are visually represented as a triangle in a two dimensional sheet of paper. \n",
    "\n",
    "Describe your metholdogy for implementing a) random sampling b) latin hyper cube for the following cases of constraints on the design space.\n",
    "\n",
    "1. Design space composes of volume fractions of three polymers in a melt such that $x_{1} + x_{2} + x_{3} = 1$ all coordinates being $x \\in [0,1]$\n",
    "2. Design space composing of three dimensions such that their Euclidean norm is 1 i.e. $x_{1}^{2} + x_{2}^{2} + x_{3}^{2} = 1$ all coordinates being $x \\in [-1,1]$\n",
    "\n",
    "Are the results satisfying in comparision to the unconstrined space filling? How can one improve this sampling?"
   ]
  },
  {
   "cell_type": "code",
   "execution_count": null,
   "id": "8f0a88c5",
   "metadata": {},
   "outputs": [],
   "source": []
  },
  {
   "cell_type": "markdown",
   "id": "ddb5657a",
   "metadata": {},
   "source": [
    "## Question 2 (10 points)\n",
    "\n",
    "Consider a simple example of fitting a linear model between Temperature (T) and resiatance (R) given by $ R = a\\times T+b $. For this model, implement a method in python to compute Fisher information matrix and briefly discuss how adding points at $T=0$ and $T=1$ change our uncertainities about the values of $a,b$. Assume that initially measurements are performed at location $T=-1, 1$ and an uncertainity of about 0.1 for both the parameters in the model."
   ]
  },
  {
   "cell_type": "code",
   "execution_count": null,
   "id": "09a793e4",
   "metadata": {},
   "outputs": [],
   "source": []
  },
  {
   "cell_type": "markdown",
   "id": "1a5d06ea",
   "metadata": {},
   "source": [
    "## Question 3 (10 points)\n",
    "In the class, we have looked at PCA as a dimensionality reduction tool to obtain visualization of data points in a 2D plane for correlation. In this question, we will explore the generative model aspect of PCA to draw inferences about what each reduced dimension might correspond to. \n",
    "\n",
    "Desribe your inferences about each reduced dimension interms of variation observed when applied to a dataset of UV-Vis spectra collected for gold nanoparticles formation. Consider the wavelength as the dimension. The following scripts loads the data such that each column correspond to a particular wavelength (dimension) and each row in one sample (assume iid).\n"
   ]
  },
  {
   "cell_type": "code",
   "execution_count": 2,
   "id": "9a6ce42d",
   "metadata": {},
   "outputs": [
    {
     "name": "stdout",
     "output_type": "stream",
     "text": [
      "(448, 101)\n"
     ]
    }
   ],
   "source": [
    "from sklearn.decomposition import PCA\n",
    "\n",
    "# You can download the data set from : \n",
    "import urllib.request\n",
    "import numpy as np\n",
    "\n",
    "url = \"https://github.com/kiranvad/DOE/raw/master/data/uvvis.npy\"\n",
    "urllib.request.urlretrieve(url, \"uvvis.npy\")\n",
    "X = np.load(\"uvvis.npy\")\n",
    "\n",
    "print(X.shape)"
   ]
  },
  {
   "cell_type": "code",
   "execution_count": null,
   "id": "f32bdd14",
   "metadata": {},
   "outputs": [],
   "source": []
  }
 ],
 "metadata": {
  "kernelspec": {
   "display_name": "DOE",
   "language": "python",
   "name": "doe"
  },
  "language_info": {
   "codemirror_mode": {
    "name": "ipython",
    "version": 3
   },
   "file_extension": ".py",
   "mimetype": "text/x-python",
   "name": "python",
   "nbconvert_exporter": "python",
   "pygments_lexer": "ipython3",
   "version": "3.8.0"
  }
 },
 "nbformat": 4,
 "nbformat_minor": 5
}
